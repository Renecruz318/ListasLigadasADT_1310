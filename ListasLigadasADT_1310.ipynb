{
  "nbformat": 4,
  "nbformat_minor": 0,
  "metadata": {
    "colab": {
      "name": "ListasLigadasADT_1310.ipynb",
      "provenance": [],
      "authorship_tag": "ABX9TyPUrjCyJXt5gU6Je/t/VvfB",
      "include_colab_link": true
    },
    "kernelspec": {
      "name": "python3",
      "display_name": "Python 3"
    },
    "language_info": {
      "name": "python"
    }
  },
  "cells": [
    {
      "cell_type": "markdown",
      "metadata": {
        "id": "view-in-github",
        "colab_type": "text"
      },
      "source": [
        "<a href=\"https://colab.research.google.com/github/Renecruz318/ListasLigadasADT_1310/blob/main/ListasLigadasADT_1310.ipynb\" target=\"_parent\"><img src=\"https://colab.research.google.com/assets/colab-badge.svg\" alt=\"Open In Colab\"/></a>"
      ]
    },
    {
      "cell_type": "markdown",
      "metadata": {
        "id": "83fj8Nh80ke-"
      },
      "source": [
        "# Ejercicios con la clase Nodo\n",
        "\n",
        "- Crear un nodo 10\n",
        "    - imprimir el valor del nodo\n",
        "- Crear dos nodos 10, 20\n",
        "    - imprimir el valor del primero\n",
        "    - imprimir el valor del segundo\n",
        "    - transversal\n",
        "- Lo mismo pero con 4 nodos, 10, 20 , 30 , 40\n",
        "    - imprimir el valor del primero\n",
        "    - imprimir el valor del ultimo\n",
        "    - transversal\n",
        "    - insertar el nodo 25, despues del nodo 20 y antes del nodo 30\n",
        "\n",
        "Todo esto antes de ir a la escritura formal del ADT lista ligada"
      ]
    },
    {
      "cell_type": "code",
      "metadata": {
        "id": "Q-wBs6Pg0e8l"
      },
      "source": [
        "class Nodo:\n",
        "    def __init__( self, value, siguiente = None ):\n",
        "        self.data = value\n",
        "        self.next = siguiente\n"
      ],
      "execution_count": null,
      "outputs": []
    },
    {
      "cell_type": "code",
      "metadata": {
        "colab": {
          "base_uri": "https://localhost:8080/"
        },
        "id": "1IOcDENu15M5",
        "outputId": "77ad12a2-f3ab-47d6-b45b-e3794aa292ef"
      },
      "source": [
        "head = Nodo(10)\n",
        "print( head.data )"
      ],
      "execution_count": null,
      "outputs": [
        {
          "output_type": "stream",
          "name": "stdout",
          "text": [
            "10\n"
          ]
        }
      ]
    },
    {
      "cell_type": "code",
      "metadata": {
        "colab": {
          "base_uri": "https://localhost:8080/"
        },
        "id": "qOLvjxfN2coN",
        "outputId": "59aa3ebc-ce5c-4531-b7c8-9ea0a079c464"
      },
      "source": [
        "head = Nodo (10)\n",
        "head.next = Nodo(20)\n",
        "print(f\"Primero={head.data}\")\n",
        "print(f\"Segundo= {head.next.data}\")\n",
        "\n",
        "#lo mismo pero ahorrando codigo\n",
        "head = Nodo (10 , Nodo(20))\n",
        "print(f\"Primero={head.data}\")\n",
        "print(f\"Segundo= {head.next.data}\")\n",
        "\n",
        "# transversal\n",
        "curr_node = head\n",
        "while curr_node != None:\n",
        "    print(f\"| {curr_node.data} | -->\" , end = \"\")\n",
        "    curr_node = curr_node.next\n",
        "print(\"\")"
      ],
      "execution_count": null,
      "outputs": [
        {
          "output_type": "stream",
          "name": "stdout",
          "text": [
            "Primero=10\n",
            "Segundo= 20\n",
            "Primero=10\n",
            "Segundo= 20\n",
            "| 10 | -->| 20 | -->\n"
          ]
        }
      ]
    },
    {
      "cell_type": "code",
      "metadata": {
        "colab": {
          "base_uri": "https://localhost:8080/"
        },
        "id": "qO93Bojv68E2",
        "outputId": "cc00e1f5-5fd6-424b-8ad9-68cd1b81b663"
      },
      "source": [
        "head = Nodo(10, Nodo (20, Nodo ( 30, Nodo ( 40 ) ) ) )\n",
        "# transversal\n",
        "curr_node = head\n",
        "while curr_node != None:\n",
        "    print(f\"| {curr_node.data} | -->\" , end = \"\")\n",
        "    curr_node = curr_node.next\n",
        "print(\"\")\n",
        "\n",
        "#imprimir el primero\n",
        "print(head.data)\n",
        "#imprimir el ultimo\n",
        "curr_node = head\n",
        "while curr_node.next != None:\n",
        "    curr_node = curr_node.next\n",
        "print(curr_node.data)\n",
        "\n",
        "curr_node = head\n",
        "while curr_node.data != 20:\n",
        "    curr_node = curr_node.next\n",
        "print(curr_node.data)\n",
        "\n",
        "#crear el nodo 25\n",
        "curr_node.next = Nodo(25,curr_node.next)\n",
        "\n",
        "curr_node = head\n",
        "while curr_node != None:\n",
        "    print(f\"| { curr_node.data } | --> \" , end = \"\")\n",
        "    curr_node = curr_node.next\n",
        "print(\"\")\n"
      ],
      "execution_count": null,
      "outputs": [
        {
          "output_type": "stream",
          "name": "stdout",
          "text": [
            "| 10 | -->| 20 | -->| 30 | -->| 40 | -->\n",
            "10\n",
            "40\n",
            "20\n",
            "| 10 | --> | 20 | --> | 25 | --> | 30 | --> | 40 | --> \n"
          ]
        }
      ]
    },
    {
      "cell_type": "code",
      "metadata": {
        "id": "HRBzWCzZc6uo"
      },
      "source": [
        "class Nodo:\n",
        "    def __init__( self, value, siguiente = None ):\n",
        "        self.data = value\n",
        "        self.next = siguiente\n",
        "\n",
        "class LinkedList:\n",
        "    def __init__( self ):\n",
        "        self.head = None\n",
        "\n",
        "    def is_empty( self ): # true or false\n",
        "        return self.head == None\n",
        "\n",
        "    def get_tail( self ):\n",
        "        if self.is_empty():\n",
        "            return None\n",
        "        else:\n",
        "            curr_node = self.head\n",
        "            while curr_node.next != None:\n",
        "                curr_node = curr_node.next\n",
        "            return curr_node\n",
        "    \n",
        "    def append( self , value ):\n",
        "        if self.head == None:\n",
        "            self.head = Nodo(value)\n",
        "        else:\n",
        "            curr_node = self.head\n",
        "            while curr_node.next != None:\n",
        "                curr_node = curr_node.next\n",
        "            curr_node.next =  Nodo(value)\n",
        "\n",
        "    def transversal( self ):\n",
        "        curr_node = self.head\n",
        "        while curr_node != None:\n",
        "            print(f\"| { curr_node.data } |-->\" , end = \"\")\n",
        "            curr_node = curr_node.next\n",
        "        print(\"\")\n",
        "    \n",
        "    def remove( self , value):\n",
        "        if self.head == None:\n",
        "            print(\"Lista vacia, no se puede remover nada\")\n",
        "        else:\n",
        "            curr_node = self.head\n",
        "            aux = None\n",
        "            while curr_node.data != value : # revisar cuando el valor no existe\n",
        "                aux = curr_node\n",
        "                curr_node = curr_node.next\n",
        "            \n",
        "            if curr_node != None:\n",
        "                aux.next = curr_node.next\n",
        "                curr_node = None\n",
        "\n",
        "    def preppend( self , value):\n",
        "        if self.head == None:\n",
        "            print(\"Esta vacio, no se puede hacer preppend\")\n",
        "        else:\n",
        "            aux = self.head\n",
        "            self.head = Nodo(value , aux )"
      ],
      "execution_count": null,
      "outputs": []
    },
    {
      "cell_type": "code",
      "metadata": {
        "colab": {
          "base_uri": "https://localhost:8080/"
        },
        "id": "WpiAwwFAfgEU",
        "outputId": "5a7be21e-d4ec-4633-9372-9d33f7f6eb87"
      },
      "source": [
        "lista = LinkedList()\n",
        "if lista.is_empty():\n",
        "    print(\"La lista esta vacia\")\n",
        "else:\n",
        "    print(\"La lista no esta vacia\")\n",
        "\n",
        "lista.append(10)\n",
        "lista.append(20)\n",
        "lista.append(30)\n",
        "lista.append(40)\n",
        "lista.append(50)\n",
        "\n",
        "\n",
        "nodo = lista.get_tail()\n",
        "if nodo != None : \n",
        "    print(nodo.data)\n",
        "else:\n",
        "    print(\"la lista esta vacia\")\n",
        "lista.transversal()\n",
        "lista.remove(30)\n",
        "lista.transversal()\n",
        "lista.preppend(5)\n",
        "print(\"despues del preppend\")\n",
        "lista.transversal()"
      ],
      "execution_count": null,
      "outputs": [
        {
          "output_type": "stream",
          "name": "stdout",
          "text": [
            "La lista esta vacia\n",
            "50\n",
            "| 10 |-->| 20 |-->| 30 |-->| 40 |-->| 50 |-->\n",
            "| 10 |-->| 20 |-->| 40 |-->| 50 |-->\n",
            "despues del preppend\n",
            "| 5 |-->| 10 |-->| 20 |-->| 40 |-->| 50 |-->\n"
          ]
        }
      ]
    }
  ]
}